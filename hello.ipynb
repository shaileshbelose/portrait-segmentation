print("hello workd in AI python this is sample app")
